{
 "cells": [
  {
   "cell_type": "markdown",
   "metadata": {},
   "source": [
    "## Part one , Les algorithmes de recherches\n"
   ]
  },
  {
   "cell_type": "code",
   "execution_count": 44,
   "metadata": {},
   "outputs": [],
   "source": [
    "import numpy as np                              # pour generer des tableau\n",
    "import pandas as pd \n",
    "import matplotlib.pyplot as plt                 # pour representaion graphique \n",
    "import time \n",
    "import math \n",
    "import random                                   # generer random values pour les tableaux"
   ]
  },
  {
   "cell_type": "markdown",
   "metadata": {},
   "source": [
    "### Implementation des algortihmes"
   ]
  },
  {
   "cell_type": "markdown",
   "metadata": {},
   "source": [
    "#### 1 recherche sequentiel tableau non trié  \n",
    "Complexity :  \n",
    "meileur cas : element recherché est le premier dans le tableau  O(1)  \n",
    "pire cas : l'element n'existe pas O(N)\n"
   ]
  },
  {
   "cell_type": "code",
   "execution_count": 45,
   "metadata": {},
   "outputs": [],
   "source": [
    "def recherche_NONtrie(tableau,valeur):\n",
    "    \n",
    "    end= len(tableau)\n",
    "    for i in range(end):                    # parcourir le tableau\n",
    "        \n",
    "        if tableau[i]==valeur:\n",
    "                                            # tester l'égalité et retourner l'indice si existe\n",
    "            return i \n",
    "                                            # return null si n'existe pas\n",
    "    return None\n",
    "\n",
    "    "
   ]
  },
  {
   "cell_type": "markdown",
   "metadata": {},
   "source": [
    "#### 2 recherche sequentiel tableau trié  \n",
    "Complexity :  \n",
    "meileur cas : element recherché est le premier dans le tableau ou valeur inferieur au premier element  O(1)  \n",
    "pire cas : l'element existe dans la derniere case  O(N)"
   ]
  },
  {
   "cell_type": "code",
   "execution_count": 46,
   "metadata": {},
   "outputs": [],
   "source": [
    "def recherche_trie(tableau , valeur):\n",
    "    \n",
    "    if(valeur > tableau[-1]):\n",
    "        return None                 # cas ou la valeur depasse le max du tableau \n",
    "    \n",
    "    end= len(tableau)\n",
    "    i = 0\n",
    "    \n",
    "    while(tableau[i] < valeur):\n",
    "            i +=1                               # parcourir le tableau jusqua premier element superieur a la valeur \n",
    "            \n",
    "    if(tableau[i]==valeur):\n",
    "        return i \n",
    "    return None                     # sinon la valeur existe \n",
    "    \n",
    "            \n",
    "\n",
    "            "
   ]
  },
  {
   "cell_type": "markdown",
   "metadata": {},
   "source": [
    "#### 3 Recherche dichotomique (binary)\n",
    "meilleur cas : valeur est au milieu du tableau   O(1)  \n",
    "pire cas :  valeur n'existe pas O(log(n))"
   ]
  },
  {
   "cell_type": "code",
   "execution_count": 47,
   "metadata": {},
   "outputs": [],
   "source": [
    "def recherche_dichotomique(tableau , valeur):\n",
    "    \n",
    "        deb = 0\n",
    "        fin = len(tableau)-1\n",
    "        \n",
    "        while( deb <= fin):\n",
    "            \n",
    "            mid = int((fin+deb)/2)                     # test avec la valeur au mileu \n",
    "            \n",
    "            if valeur==tableau[mid]:\n",
    "                return mid\n",
    "            elif valeur > tableau[mid]:                     # si valeur superieur alors on test la partie droite du tableau\n",
    "                deb = mid+1\n",
    "            else:                                           # sinon tester la partie gauche \n",
    "                fin= mid-1\n",
    "        \n",
    "        return None                                         "
   ]
  },
  {
   "cell_type": "markdown",
   "metadata": {},
   "source": [
    "### Etude experimental \n"
   ]
  },
  {
   "cell_type": "markdown",
   "metadata": {},
   "source": [
    "#### a \\) Pire cas \n",
    "non ordonee : n'existe pas  \n",
    "ordonee : soit la derniere au tableau  \n",
    "dichotomique : n'existe pas  \n",
    "\n",
    "#### b \\) Meilleur cas \n",
    "non ordonee : premiere valeur du tableau  \n",
    "ordonee :  premiere valeur du tableau ou out of borders  \n",
    "dichotomique : au milieu du tableau "
   ]
  },
  {
   "cell_type": "code",
   "execution_count": 67,
   "metadata": {},
   "outputs": [],
   "source": [
    "\n",
    "tailletableau=[100000,200000,400000,600000,800000,1000000,1200000,1400000,1600000,1800000]\n",
    "\n",
    "temps_pire_nontrie = []\n",
    "temps_pire_trie = []\n",
    "temps_pire_dichotomique = []\n",
    "\n",
    "temps_meill_nontrie = []\n",
    "temps_meill_trie = []\n",
    "temps_meill_dichotomique = []\n",
    "\n",
    "\n",
    "# algo non trie , valeur recherche au pire cas doit pas exister , exemple 10000000\n",
    "\n",
    "\n",
    "\n",
    "for N in tailletableau:\n",
    "    \n",
    "    tab_nonordone = np.random.randint(100,1000000000,size=N)  # generer un tableau de taille=size ayant des valeurs random entre(100 et 1000000000)\n",
    "   \n",
    "    tab_ordone = np.random.randint(100,1000000000,size=N) \n",
    "    tab_ordone.sort()  \n",
    "    \n",
    "    # algo non trie\n",
    "    #valeur recherche au pire cas doit pas exister , exemple 20\n",
    "\n",
    "    debut = time.time()\n",
    "    \n",
    "    recherche_NONtrie(tab_nonordone,20)    \n",
    "    \n",
    "    fin = time.time()            \n",
    "    \n",
    "    temps_pire_nontrie.append(fin-debut)\n",
    "    \n",
    "    # meilleur cas , la valeur soit le premier element du tableau \n",
    "    \n",
    "    tab_nonordone[0]=20\n",
    "    \n",
    "    debut = time.time()\n",
    "    \n",
    "    recherche_NONtrie(tab_nonordone,20) \n",
    "    \n",
    "    fin = time.time()            \n",
    "    \n",
    "    temps_meill_nontrie.append(fin-debut)\n",
    "    \n",
    "\n",
    "\n",
    "    # algo trie sequentielle \n",
    "    # valeur recherche au pire cas peu etre importe ou dans le tableau \n",
    "\n",
    "\n",
    "    debut = time.time()\n",
    "    \n",
    "    recherche_trie(tab_ordone ,np.random.randint(800000000,1000000000) ) # random value \n",
    "     \n",
    "    fin = time.time()            \n",
    "    \n",
    "    temps_pire_trie.append(fin-debut)\n",
    "    \n",
    "    # au meilleur cas , la valeur doit etre premier element du tableau \n",
    "    \n",
    "    tab_ordone[0]=20\n",
    "    debut = time.time()\n",
    "    \n",
    "    recherche_trie(tab_ordone ,20 )\n",
    "     \n",
    "    fin = time.time()            \n",
    "    \n",
    "    temps_meill_trie.append(fin-debut)\n",
    "    \n",
    "    \n",
    "    \n",
    "    # algo dichotomique \n",
    "    # pire cas valeure existe pas exemple : 20\n",
    "    \n",
    "    \n",
    "    debut = time.time()\n",
    "    \n",
    "    recherche_dichotomique(tab_ordone ,20 )\n",
    "     \n",
    "    fin = time.time()            \n",
    "    \n",
    "    temps_pire_dichotomique.append(fin-debut)\n",
    "    \n",
    "    \n",
    "    # au meilleur cas la valeur doit etre au milieu du tableau\n",
    "    \n",
    "    milleu = int((len(tab_ordone)-1)/2)\n",
    "    tab_ordone[milleu]=20\n",
    "    \n",
    "    debut = time.time()\n",
    "    \n",
    "    recherche_dichotomique(tab_ordone ,20 )\n",
    "     \n",
    "    fin = time.time()            \n",
    "    \n",
    "    temps_meill_dichotomique.append(fin-debut)\n",
    "    \n",
    "    \n",
    "    \n",
    "       \n",
    "    \n",
    "    \n",
    "    \n",
    "\n",
    "\n",
    " "
   ]
  },
  {
   "cell_type": "markdown",
   "metadata": {},
   "source": [
    "#### Resultat et Represention Graphique pire cas"
   ]
  },
  {
   "cell_type": "code",
   "execution_count": 68,
   "metadata": {},
   "outputs": [
    {
     "name": "stdout",
     "output_type": "stream",
     "text": [
      "         Sequentiel non trié  sequentiel trié  dichotimique\n",
      "100000              0.041565         0.042651           0.0\n",
      "200000              0.077292         0.086919           0.0\n",
      "400000              0.160917         0.167296           0.0\n",
      "600000              0.301075         0.312705           0.0\n",
      "800000              0.387977         0.453557           0.0\n",
      "1000000             0.509932         0.557525           0.0\n",
      "1200000             0.524054         0.453314           0.0\n",
      "1400000             0.581366         0.725503           0.0\n",
      "1600000             0.740062         0.900495           0.0\n",
      "1800000             0.841948         0.648726           0.0\n"
     ]
    }
   ],
   "source": [
    "pireframe=pd.DataFrame(zip(temps_pire_nontrie , temps_pire_trie ,temps_pire_dichotomique ) , index=tailletableau , columns=[\"Sequentiel non trié\" , \"sequentiel trié\" , \"dichotimique\"])\n",
    "print(pireframe)\n",
    "pireframe.to_csv(\"result pire cas.csv\")"
   ]
  },
  {
   "cell_type": "code",
   "execution_count": 69,
   "metadata": {},
   "outputs": [
    {
     "data": {
      "image/png": "[encoded data removed]",
      "text/plain": [
       "<Figure size 800x600 with 1 Axes>"
      ]
     },
     "metadata": {},
     "output_type": "display_data"
    }
   ],
   "source": [
    "plt.figure(figsize=(8,6))\n",
    "\n",
    "plt.plot(tailletableau , temps_pire_nontrie , '.-' , label=\"sequentielle non trié\")\n",
    "plt.plot(tailletableau , temps_pire_trie , '.-' , label=\"sequentielle trié\")\n",
    "plt.plot(tailletableau , temps_pire_dichotomique , '.-' , label=\"dichotomique \")\n",
    "plt.xlabel(\"taille tableau\")\n",
    "plt.ylabel(\"temps(s)\")\n",
    "plt.legend()\n",
    "plt.savefig(\"comparison_recherche.png\")\n",
    "plt.show()\n",
    "\n",
    "\n"
   ]
  },
  {
   "cell_type": "markdown",
   "metadata": {},
   "source": [
    "#### Resultats meilleur cas "
   ]
  },
  {
   "cell_type": "code",
   "execution_count": 70,
   "metadata": {},
   "outputs": [
    {
     "name": "stdout",
     "output_type": "stream",
     "text": [
      "         Sequentiel non trié  sequentiel trié  dichotimique\n",
      "100000                   0.0              0.0           0.0\n",
      "200000                   0.0              0.0           0.0\n",
      "400000                   0.0              0.0           0.0\n",
      "600000                   0.0              0.0           0.0\n",
      "800000                   0.0              0.0           0.0\n",
      "1000000                  0.0              0.0           0.0\n",
      "1200000                  0.0              0.0           0.0\n",
      "1400000                  0.0              0.0           0.0\n",
      "1600000                  0.0              0.0           0.0\n",
      "1800000                  0.0              0.0           0.0\n"
     ]
    }
   ],
   "source": [
    "meillframe=pd.DataFrame(zip(temps_meill_nontrie , temps_meill_trie ,temps_meill_dichotomique ) , index=tailletableau , columns=[\"Sequentiel non trié\" , \"sequentiel trié\" , \"dichotimique\"])\n",
    "print(meillframe)\n",
    "meillframe.to_csv(\"result meill cas.csv\")"
   ]
  }
 ],
 "metadata": {
  "kernelspec": {
   "display_name": "base",
   "language": "python",
   "name": "python3"
  },
  "language_info": {
   "codemirror_mode": {
    "name": "ipython",
    "version": 3
   },
   "file_extension": ".py",
   "mimetype": "text/x-python",
   "name": "python",
   "nbconvert_exporter": "python",
   "pygments_lexer": "ipython3",
   "version": "3.9.13"
  }
 },
 "nbformat": 4,
 "nbformat_minor": 2
}
