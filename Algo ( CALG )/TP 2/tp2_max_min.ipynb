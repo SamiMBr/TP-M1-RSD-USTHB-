{
 "cells": [
  {
   "cell_type": "markdown",
   "metadata": {},
   "source": [
    "## Part two , max et min "
   ]
  },
  {
   "cell_type": "code",
   "execution_count": 22,
   "metadata": {},
   "outputs": [],
   "source": [
    "import numpy as np \n",
    "import pandas as pd \n",
    "import matplotlib.pyplot as plt \n",
    "import time \n",
    "import math \n",
    "import random"
   ]
  },
  {
   "cell_type": "markdown",
   "metadata": {},
   "source": [
    "### max et min A : \n",
    "Nombre de test est de 2(N-1) , O(N)"
   ]
  },
  {
   "cell_type": "code",
   "execution_count": 24,
   "metadata": {},
   "outputs": [],
   "source": [
    "def maxmin(tableau):\n",
    "    \n",
    "    cpt = 0\n",
    "    max = tableau[0]\n",
    "    min = tableau[0]\n",
    "    end = len(tableau)\n",
    "    \n",
    "    for i in range(1,end):\n",
    "        cpt+=2                      # deux test dans chque iteration \n",
    "        if max < tableau[i]:\n",
    "            max=tableau[i]\n",
    "        if min > tableau[i]:\n",
    "            min = tableau[i]\n",
    "            \n",
    "            \n",
    "    return {'min' : min , 'max' : max , 'compteur' : cpt}"
   ]
  },
  {
   "cell_type": "code",
   "execution_count": 13,
   "metadata": {},
   "outputs": [
    {
     "name": "stdout",
     "output_type": "stream",
     "text": [
      "[184 108 111 137 182 166 106 158 197 186]\n",
      "{'min': 106, 'max': 197, 'compteur': 18}\n"
     ]
    }
   ],
   "source": [
    "tab = np.random.randint(100,200,size=10)\n",
    "print(tab)\n",
    "print(maxmin(tab))"
   ]
  },
  {
   "cell_type": "markdown",
   "metadata": {},
   "source": [
    "### max et min 2\n",
    "- parcours deux a deux , plus petit dans l'indice impair et plus grand dans le pair \n",
    "- parcourir les indice pair et impair pour le max et min \n",
    "- tester la dernier case si necessaire \n",
    "\n",
    "**==> 2 parcours N/2** "
   ]
  },
  {
   "cell_type": "code",
   "execution_count": 25,
   "metadata": {},
   "outputs": [],
   "source": [
    "def maxmin_2(tableau):\n",
    "    \n",
    "    cpt=0\n",
    "    end= len(tableau)-1\n",
    "    \n",
    "    # boucle de permutation deux a deux \n",
    "    \n",
    "    for i in range(0,end,2):\n",
    "        cpt+=1\n",
    "        if tableau[i]<tableau[i+1]:\n",
    "            tableau[i] , tableau[i+1] = tableau[i+1] , tableau[i]                        \n",
    "           \n",
    "    \n",
    "    \n",
    "    min = tableau[1]\n",
    "    max = tableau[0]\n",
    "        \n",
    "    for i in range(2,end,2):\n",
    "        cpt+=2\n",
    "        if tableau[i] > max:                # parcourir les indices pair a la rechereche du max\n",
    "            max = tableau[i]\n",
    "        if tableau[i+1] < min :\n",
    "            min = tableau[i+1]              # les indices impairs possede le min \n",
    "            \n",
    "            \n",
    "            \n",
    "    # treaiter le cas ou taille tableau est impair et comaprer avec la derniere case \n",
    "    cpt+=1\n",
    "    if (len(tableau)%2==1):\n",
    "        cpt+=2\n",
    "        if(min > tableau[-1]):\n",
    "            min = tableau[-1]\n",
    "        if(max < tableau[-1]):\n",
    "            max = tableau[-1]  \n",
    "    \n",
    "    \n",
    "    return {'min' : min , 'max' : max , 'compteur' : cpt }"
   ]
  },
  {
   "cell_type": "markdown",
   "metadata": {},
   "source": [
    "#### exemple de fonctionement sur petite taille "
   ]
  },
  {
   "cell_type": "code",
   "execution_count": 26,
   "metadata": {},
   "outputs": [
    {
     "name": "stdout",
     "output_type": "stream",
     "text": [
      "[100 189 164 101 162 138 111 104 167 157 188 119 190 133]\n",
      "Resultat algorithme A : \n",
      "{'min': 100, 'max': 190, 'compteur': 26}\n",
      "\n",
      "\n",
      "[100 189 164 101 162 138 111 104 167 157 188 119 190 133]\n",
      "Resultat algorithme A sur algorithme pair : \n",
      "{'min': 100, 'max': 190, 'compteur': 20}\n",
      "\n",
      "\n",
      "[173 112 163 117 130 113 122 119 100 181 188 105 112 105 500]\n",
      "Resultat algorithme B sur algorithme impair : \n",
      "{'min': 100, 'max': 500, 'compteur': 22}\n"
     ]
    }
   ],
   "source": [
    "pair_array = np.random.randint(100,200,size=14)\n",
    "impair_array = np.random.randint(100,200,size=15)\n",
    "\n",
    "print(pair_array)\n",
    "print(\"Resultat algorithme A : \")\n",
    "print(maxmin(pair_array))\n",
    "print(\"\\n\")\n",
    "\n",
    "print(pair_array)\n",
    "print(\"Resultat algorithme A sur algorithme pair : \")\n",
    "print(maxmin_2(pair_array))\n",
    "print(\"\\n\")\n",
    "\n",
    "\n",
    "# mettre le max dans la dernier case pour tester si algo B test bien la derniere case quand taille est impair \n",
    "impair_array[-1]=500\n",
    "print(impair_array)\n",
    "print(\"Resultat algorithme B sur algorithme impair : \")\n",
    "print(maxmin_2(impair_array))\n",
    "\n",
    "\n",
    "\n"
   ]
  },
  {
   "cell_type": "markdown",
   "metadata": {},
   "source": [
    "### etude exprimental "
   ]
  },
  {
   "cell_type": "code",
   "execution_count": 27,
   "metadata": {},
   "outputs": [
    {
     "name": "stdout",
     "output_type": "stream",
     "text": [
      "         temps (s) maxmin_A  nbr_iter_A  temps (s) maxmin_B  nbr_iter_B\n",
      "100000             0.034362      199998            0.047782      149999\n",
      "200000             0.064503      399998            0.065119      299999\n",
      "400000             0.114083      799998            0.161411      599999\n",
      "600000             0.194596     1199998            0.230275      899999\n",
      "800000             0.332164     1599998            0.313253     1199999\n",
      "1000000            0.319145     1999998            0.441170     1499999\n",
      "1200000            0.369181     2399998            0.484028     1799999\n",
      "1400000            0.427433     2799998            0.555154     2099999\n",
      "1600000            0.483510     3199998            0.632499     2399999\n",
      "1800000            0.553164     3599998            0.712637     2699999\n"
     ]
    }
   ],
   "source": [
    "tailletableau=[100000,200000,400000,600000,800000,1000000,1200000,1400000,1600000,1800000]\n",
    "\n",
    "\n",
    "\n",
    "temps_exec1=[]\n",
    "nbr_comparaison1=[]\n",
    "\n",
    "temps_exec2=[]\n",
    "nbr_comparaison2=[]\n",
    "\n",
    "for N in tailletableau:\n",
    " \n",
    "    tab=np.random.randint(100,1000000000,size=N)    \n",
    "    \n",
    "    debut = time.time()\n",
    "    result=maxmin_2(tab)\n",
    "    fin = time.time()\n",
    "\n",
    "    temps_exec2.append(fin-debut)\n",
    "    nbr_comparaison2.append(result['compteur'])\n",
    "    \n",
    "    debut = time.time()\n",
    "    result=maxmin(tab)\n",
    "    fin = time.time()\n",
    "\n",
    "    temps_exec1.append(fin-debut)\n",
    "    nbr_comparaison1.append(result['compteur'])\n",
    "    \n",
    "    \n",
    "\n",
    "    \n",
    "compare = pd.DataFrame(zip( temps_exec1 , nbr_comparaison1, temps_exec2 , nbr_comparaison2 ),index=tailletableau , columns=[\"temps (s) maxmin_A\",\"nbr_iter_A\",\"temps (s) maxmin_B\",\"nbr_iter_B\",])\n",
    "compare.to_csv(\"maxmin.csv\")\n",
    "print(compare)\n",
    "\n",
    "    \n",
    "    "
   ]
  },
  {
   "cell_type": "code",
   "execution_count": 28,
   "metadata": {},
   "outputs": [
    {
     "data": {
      "image/png": "[encoded data removed]",
      "text/plain": [
       "<Figure size 800x600 with 1 Axes>"
      ]
     },
     "metadata": {},
     "output_type": "display_data"
    }
   ],
   "source": [
    "plt.figure(figsize=(8,6))\n",
    "\n",
    "plt.plot(tailletableau , temps_exec1 , '.-' , label=\"algo_A\")\n",
    "plt.plot(tailletableau , temps_exec2 , '.-' , label=\"algo_B\")\n",
    "plt.xlabel(\"taille tableau\")\n",
    "plt.ylabel(\"temps(s)\")\n",
    "plt.legend()\n",
    "plt.savefig(\"comparison_maxmin.png\")\n",
    "plt.show()\n",
    "\n",
    "\n"
   ]
  }
 ],
 "metadata": {
  "kernelspec": {
   "display_name": "base",
   "language": "python",
   "name": "python3"
  },
  "language_info": {
   "codemirror_mode": {
    "name": "ipython",
    "version": 3
   },
   "file_extension": ".py",
   "mimetype": "text/x-python",
   "name": "python",
   "nbconvert_exporter": "python",
   "pygments_lexer": "ipython3",
   "version": "3.9.13"
  }
 },
 "nbformat": 4,
 "nbformat_minor": 2
}
